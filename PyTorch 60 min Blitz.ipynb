{
 "cells": [
  {
   "cell_type": "markdown",
   "metadata": {},
   "source": [
    "# What is PyTorch?\n",
    "Code Adapted from [Deep Learning with PyTorch](https://pytorch.org/tutorials/beginner/blitz/tensor_tutorial.html#sphx-glr-beginner-blitz-tensor-tutorial-py)\n",
    "Its a Python based scientific computing package with two aspects:\n",
    "- A replacement for NumPy to use power of GPU\n",
    "- A deepLearning research platform that provide maximum flexibility and speed."
   ]
  },
  {
   "cell_type": "markdown",
   "metadata": {
    "heading_collapsed": true
   },
   "source": [
    "## Imports"
   ]
  },
  {
   "cell_type": "code",
   "execution_count": 1,
   "metadata": {
    "hidden": true
   },
   "outputs": [],
   "source": [
    "from __future__ import print_function\n",
    "import torch"
   ]
  },
  {
   "cell_type": "code",
   "execution_count": 2,
   "metadata": {
    "code_folding": [],
    "hidden": true
   },
   "outputs": [
    {
     "data": {
      "text/plain": [
       "True"
      ]
     },
     "execution_count": 2,
     "metadata": {},
     "output_type": "execute_result"
    }
   ],
   "source": [
    "# checking for correct torch installation\n",
    "torch.cuda.is_available()"
   ]
  },
  {
   "cell_type": "markdown",
   "metadata": {
    "heading_collapsed": true
   },
   "source": [
    "## Tensors\n",
    "Basic about tensors"
   ]
  },
  {
   "cell_type": "code",
   "execution_count": 3,
   "metadata": {
    "hidden": true,
    "scrolled": true
   },
   "outputs": [
    {
     "name": "stdout",
     "output_type": "stream",
     "text": [
      "tensor([[ 2.6204e-03,  5.8434e-43,  6.4894e-01],\n",
      "        [ 5.8434e-43,  5.0574e-03,  5.8434e-43],\n",
      "        [ 4.9602e+13,  0.0000e+00,  4.9601e+13],\n",
      "        [ 0.0000e+00,  1.7210e-03,  5.8434e-43],\n",
      "        [ 2.6204e-03,  5.8434e-43,  2.5703e+09]])\n"
     ]
    }
   ],
   "source": [
    "# Construct a 5x3 matrix, uninitialized\n",
    "x = torch.empty(5, 3)\n",
    "print(x)"
   ]
  },
  {
   "cell_type": "code",
   "execution_count": 4,
   "metadata": {
    "hidden": true,
    "scrolled": true
   },
   "outputs": [
    {
     "name": "stdout",
     "output_type": "stream",
     "text": [
      "tensor([[ 0.0217,  0.6115,  0.1275],\n",
      "        [ 0.6348,  0.2365,  0.5276],\n",
      "        [ 0.3702,  0.4670,  0.7611],\n",
      "        [ 0.2703,  0.4157,  0.5141],\n",
      "        [ 0.0231,  0.2657,  0.8433]])\n"
     ]
    }
   ],
   "source": [
    "# Construct a randomly initialized matrix\n",
    "x = torch.rand(5, 3)\n",
    "print(x)"
   ]
  },
  {
   "cell_type": "code",
   "execution_count": 7,
   "metadata": {
    "hidden": true,
    "scrolled": true
   },
   "outputs": [
    {
     "name": "stdout",
     "output_type": "stream",
     "text": [
      "tensor([[ 0,  0,  0],\n",
      "        [ 0,  0,  0],\n",
      "        [ 0,  0,  0],\n",
      "        [ 0,  0,  0],\n",
      "        [ 0,  0,  0]])\n"
     ]
    }
   ],
   "source": [
    "# Construct a matrix filled with zero and long dtype\n",
    "x = torch.zeros(5, 3, dtype=torch.long)\n",
    "print(x)"
   ]
  },
  {
   "cell_type": "code",
   "execution_count": 8,
   "metadata": {
    "code_folding": [],
    "hidden": true
   },
   "outputs": [
    {
     "name": "stdout",
     "output_type": "stream",
     "text": [
      "tensor([ 5.,  4.,  6.])\n"
     ]
    }
   ],
   "source": [
    "# Construct a tensor directly from data\n",
    "my_lsit = [5.0, 4.0, 6.0]\n",
    "x = torch.tensor(my_lsit)\n",
    "print(x)"
   ]
  },
  {
   "cell_type": "code",
   "execution_count": 9,
   "metadata": {
    "code_folding": [],
    "hidden": true,
    "scrolled": true
   },
   "outputs": [
    {
     "name": "stdout",
     "output_type": "stream",
     "text": [
      "tensor([[ 1.,  1.,  1.],\n",
      "        [ 1.,  1.,  1.],\n",
      "        [ 1.,  1.,  1.],\n",
      "        [ 1.,  1.,  1.],\n",
      "        [ 1.,  1.,  1.]], dtype=torch.float64)\n"
     ]
    }
   ],
   "source": [
    "# Create a tensor based on existing tensor\n",
    "# Method wil reuse properties of input tensor, unless new prop are mentioned\n",
    "x = x.new_ones(5, 3, dtype=torch.double)\n",
    "print(x)"
   ]
  },
  {
   "cell_type": "code",
   "execution_count": 11,
   "metadata": {
    "code_folding": [],
    "hidden": true,
    "scrolled": true
   },
   "outputs": [
    {
     "name": "stdout",
     "output_type": "stream",
     "text": [
      "tensor([[ 0.9584,  1.3239,  0.7512],\n",
      "        [-1.4458, -1.7208,  0.3150],\n",
      "        [-1.2228,  1.2806, -0.1146],\n",
      "        [ 0.3853, -0.0897, -0.2662],\n",
      "        [ 1.5282,  0.5504, -0.8687]])\n"
     ]
    }
   ],
   "source": [
    "# Some random methods below\n",
    "# x = torch.rand_like()\n",
    "# x = torch.randint_like()\n",
    "\n",
    "x = torch.randn_like(x, dtype=torch.float)\n",
    "print(x)"
   ]
  },
  {
   "cell_type": "code",
   "execution_count": 6,
   "metadata": {
    "hidden": true
   },
   "outputs": [
    {
     "name": "stdout",
     "output_type": "stream",
     "text": [
      "torch.Size([5, 3])\n"
     ]
    }
   ],
   "source": [
    "# To Get size of a tensor\n",
    "print(x.size())"
   ]
  },
  {
   "cell_type": "markdown",
   "metadata": {
    "heading_collapsed": true
   },
   "source": [
    "## Operations\n",
    "Torch provides multiple syntaxes for operations"
   ]
  },
  {
   "cell_type": "code",
   "execution_count": 7,
   "metadata": {
    "hidden": true
   },
   "outputs": [
    {
     "name": "stdout",
     "output_type": "stream",
     "text": [
      "tensor([[ 1.4767,  0.2552,  1.1280],\n",
      "        [ 0.3544,  1.0208,  0.7070],\n",
      "        [ 0.4179,  1.0108,  0.8742],\n",
      "        [ 0.9083,  0.6209,  0.8328],\n",
      "        [ 1.5312,  1.5842,  0.7516]])\n"
     ]
    }
   ],
   "source": [
    "# Addition: Syntax 1\n",
    "x = torch.rand(5, 3)\n",
    "y = torch.rand(5, 3)\n",
    "print(x + y)"
   ]
  },
  {
   "cell_type": "code",
   "execution_count": 8,
   "metadata": {
    "code_folding": [],
    "hidden": true
   },
   "outputs": [
    {
     "name": "stdout",
     "output_type": "stream",
     "text": [
      "tensor([[ 1.4767,  0.2552,  1.1280],\n",
      "        [ 0.3544,  1.0208,  0.7070],\n",
      "        [ 0.4179,  1.0108,  0.8742],\n",
      "        [ 0.9083,  0.6209,  0.8328],\n",
      "        [ 1.5312,  1.5842,  0.7516]])\n"
     ]
    }
   ],
   "source": [
    "# Syntax 2:\n",
    "print(torch.add(x, y))"
   ]
  },
  {
   "cell_type": "code",
   "execution_count": 9,
   "metadata": {
    "hidden": true
   },
   "outputs": [
    {
     "name": "stdout",
     "output_type": "stream",
     "text": [
      "tensor([[ 1.4767,  0.2552,  1.1280],\n",
      "        [ 0.3544,  1.0208,  0.7070],\n",
      "        [ 0.4179,  1.0108,  0.8742],\n",
      "        [ 0.9083,  0.6209,  0.8328],\n",
      "        [ 1.5312,  1.5842,  0.7516]])\n"
     ]
    }
   ],
   "source": [
    "# Syntax 3: providing an output tensor as argument\n",
    "result = torch.empty(5,3)\n",
    "torch.add(x, y, out=result)\n",
    "print(result)"
   ]
  },
  {
   "cell_type": "code",
   "execution_count": 10,
   "metadata": {
    "hidden": true
   },
   "outputs": [
    {
     "name": "stdout",
     "output_type": "stream",
     "text": [
      "tensor([[ 1.4767,  0.2552,  1.1280],\n",
      "        [ 0.3544,  1.0208,  0.7070],\n",
      "        [ 0.4179,  1.0108,  0.8742],\n",
      "        [ 0.9083,  0.6209,  0.8328],\n",
      "        [ 1.5312,  1.5842,  0.7516]])\n"
     ]
    }
   ],
   "source": [
    "# Syntax 4: Addition in-place\n",
    "# any op that mutate a tensor in-place is pos-fixed with a _. eg. x.copy_(y), x.t_() will chage x.\n",
    "y.add_(x)\n",
    "print(y)"
   ]
  },
  {
   "cell_type": "code",
   "execution_count": 11,
   "metadata": {
    "hidden": true
   },
   "outputs": [
    {
     "name": "stdout",
     "output_type": "stream",
     "text": [
      "tensor([[ 0.5070,  0.0843,  0.1304],\n",
      "        [ 0.1539,  0.4730,  0.4224],\n",
      "        [ 0.0544,  0.5346,  0.4089],\n",
      "        [ 0.8867,  0.1095,  0.3773],\n",
      "        [ 0.9627,  0.7762,  0.5023]])\n",
      "tensor([ 0.0843,  0.4730,  0.5346,  0.1095,  0.7762])\n"
     ]
    }
   ],
   "source": [
    "# Standard numpy indexing\n",
    "print(x)\n",
    "print(x[:, 1])"
   ]
  },
  {
   "cell_type": "code",
   "execution_count": 16,
   "metadata": {
    "hidden": true
   },
   "outputs": [
    {
     "name": "stdout",
     "output_type": "stream",
     "text": [
      "tensor([[ 0.3474,  0.7198,  0.9969,  0.3022],\n",
      "        [ 0.9289,  0.7644,  0.3423,  0.5764],\n",
      "        [ 0.1462,  0.9202,  0.6044,  0.5615],\n",
      "        [ 0.1613,  0.7635,  0.6305,  0.3853]])\n",
      "tensor([ 0.3474,  0.7198,  0.9969,  0.3022,  0.9289,  0.7644,  0.3423,\n",
      "         0.5764,  0.1462,  0.9202,  0.6044,  0.5615,  0.1613,  0.7635,\n",
      "         0.6305,  0.3853])\n",
      "tensor([[ 0.3474,  0.7198,  0.9969,  0.3022,  0.9289,  0.7644,  0.3423,\n",
      "          0.5764],\n",
      "        [ 0.1462,  0.9202,  0.6044,  0.5615,  0.1613,  0.7635,  0.6305,\n",
      "          0.3853]])\n",
      "torch.Size([4, 4]) torch.Size([16]) torch.Size([2, 8])\n"
     ]
    }
   ],
   "source": [
    "# To Reshape/Resize tensor, use torch.view\n",
    "x = torch.rand(4, 4)\n",
    "print(x)\n",
    "y = x.view(16)\n",
    "print(y)\n",
    "z = x.view(-1, 8)\n",
    "print(z)\n",
    "print(x.shape, y.shape, z.shape)"
   ]
  },
  {
   "cell_type": "code",
   "execution_count": 19,
   "metadata": {
    "hidden": true
   },
   "outputs": [
    {
     "name": "stdout",
     "output_type": "stream",
     "text": [
      "tensor([ 0.3351])\n",
      "0.33512961864471436\n"
     ]
    }
   ],
   "source": [
    "# if we have a 1 element tensor, use .item() to get the value as python number\n",
    "x = torch.rand(1)\n",
    "print(x)\n",
    "print(x.item())"
   ]
  },
  {
   "cell_type": "markdown",
   "metadata": {
    "hidden": true
   },
   "source": [
    "100+ Tensor operations, including transposing, indexing, slicing, mathematical operations, linear algebra, random numbers, etc., are described in [Official Docs](https://pytorch.org/docs/stable/torch.html)."
   ]
  },
  {
   "cell_type": "markdown",
   "metadata": {
    "heading_collapsed": true
   },
   "source": [
    "## NumPy Bridge\n",
    "- We can convert a Torch Tensor to Numpy Array and ViceVersa\n",
    "- Both will share underlying memory locations and changing one will change other."
   ]
  },
  {
   "cell_type": "markdown",
   "metadata": {
    "heading_collapsed": true,
    "hidden": true
   },
   "source": [
    "### Converting a torch tensor to Numpy array"
   ]
  },
  {
   "cell_type": "code",
   "execution_count": 21,
   "metadata": {
    "hidden": true
   },
   "outputs": [
    {
     "name": "stdout",
     "output_type": "stream",
     "text": [
      "tensor([ 1.,  1.,  1.,  1.,  1.])\n"
     ]
    }
   ],
   "source": [
    "a = torch.ones(5)\n",
    "print(a)"
   ]
  },
  {
   "cell_type": "code",
   "execution_count": 22,
   "metadata": {
    "hidden": true
   },
   "outputs": [
    {
     "name": "stdout",
     "output_type": "stream",
     "text": [
      "[1. 1. 1. 1. 1.]\n"
     ]
    }
   ],
   "source": [
    "b = a.numpy()\n",
    "print(b)"
   ]
  },
  {
   "cell_type": "code",
   "execution_count": 23,
   "metadata": {
    "hidden": true
   },
   "outputs": [
    {
     "name": "stdout",
     "output_type": "stream",
     "text": [
      "tensor([ 2.,  2.,  2.,  2.,  2.])\n",
      "[2. 2. 2. 2. 2.]\n"
     ]
    }
   ],
   "source": [
    "# numpy arr b has changed in value\n",
    "a.add_(1)\n",
    "print(a)\n",
    "print(b)"
   ]
  },
  {
   "cell_type": "markdown",
   "metadata": {
    "heading_collapsed": true,
    "hidden": true
   },
   "source": [
    "### Converting a Numpy Arr into a Torch Tensor\n",
    "- All tensors in CPU except a CharTensor support Numpy-TorchTensor convertion and back"
   ]
  },
  {
   "cell_type": "code",
   "execution_count": 25,
   "metadata": {
    "hidden": true
   },
   "outputs": [
    {
     "name": "stdout",
     "output_type": "stream",
     "text": [
      "[2. 2. 2. 2. 2.]\n",
      "tensor([ 2.,  2.,  2.,  2.,  2.], dtype=torch.float64)\n"
     ]
    }
   ],
   "source": [
    "import numpy as np\n",
    "a = np.ones(5)\n",
    "b = torch.from_numpy(a)\n",
    "np.add(a, 1, out=a)\n",
    "print(a)\n",
    "print(b)"
   ]
  },
  {
   "cell_type": "markdown",
   "metadata": {
    "heading_collapsed": true
   },
   "source": [
    "## CUDA Tensors\n",
    "- Tensors can be moved to any Device using `.to` method"
   ]
  },
  {
   "cell_type": "code",
   "execution_count": 26,
   "metadata": {
    "code_folding": [],
    "hidden": true
   },
   "outputs": [
    {
     "name": "stdout",
     "output_type": "stream",
     "text": [
      "x=  tensor([ 0.3351])\n",
      "tensor([ 1.3351], device='cuda:0')\n",
      "tensor([ 1.3351])\n"
     ]
    }
   ],
   "source": [
    "# Run this cell if onlt CUDA is available\n",
    "# We will use torch.device object to move tensor in and out of GPU\n",
    "if torch.cuda.is_available():\n",
    "    device = torch.device(\"cuda\") # a CUDA device object\n",
    "    print('x= ', x)\n",
    "    y = torch.ones_like(input=x, device=device) # Directly create a tensor in GPU\n",
    "    x = x.to(device) # or use string ``.to(\"cuda\")``\n",
    "    z = x + y\n",
    "    print(z)\n",
    "    print(z.to(\"cpu\", torch.float32)) # ``.to`` can change dtype together"
   ]
  },
  {
   "cell_type": "markdown",
   "metadata": {},
   "source": [
    "# Autograd: Automatic Differentiation\n",
    "Code adapted from [link](https://pytorch.org/tutorials/beginner/blitz/autograd_tutorial.html)\n",
    "\n",
    "Central to all NN in pyTorch is Autograd package. Autograd package provide automatic differentiation to all operations done on Tensor. It is Define-by-Run framework. It means BackProp is defined by how our code is run, and each iteration can be different.\n",
    "\n",
    "[Documentation](http://pytorch.org/docs/autograd) of **autograd** and **Function**"
   ]
  },
  {
   "cell_type": "markdown",
   "metadata": {
    "heading_collapsed": true
   },
   "source": [
    "## Tensors\n",
    "**torch.Tensor** is central class of autograd package. If we set its attribute **.requires_grad** as **True**, it starts to track all operations on it. After finishing our computations we can call **.backward()** and have all gradient computed automatically. The gradient for this tensor will be accumulated into **.grad** attribute.\n",
    "\n",
    "To stop a tensor from tracking history, we can call **.detach()** to detach it from computation history, and to prevent future computation from being tracked.\n",
    "\n",
    "To prevent tracking history(and using memory), we can also wrap code block in **with torch.no_grad():**. This is useful when evaluating a model, bcoz the model may have trainable parameters with **requires_grad=True**, bt we dnt need gradients.\n",
    "\n",
    "Another important class for autograd implementation is **Function**\n",
    "\n",
    "**Tensor** and **Function** are interconnected and build up an acyclic graph, that encodes a complete history of computation. Each variable has a attribute called **.grad_fn** that ref to a **Function** that created the **Tensor**(except for Tensors created by the user- their **grad_fn is None**)\n",
    "\n",
    "If we want to compute the derivatives, we can call **.backward()** on a **Tensor**. If **Tensor** is a scalar(it holds one element data), u dnt need to add any argument to **.backward()**. If it has more elements, we need to specify a **gradient** argument, that is a tensor of matching shape."
   ]
  },
  {
   "cell_type": "code",
   "execution_count": 1,
   "metadata": {
    "hidden": true
   },
   "outputs": [],
   "source": [
    "import torch"
   ]
  },
  {
   "cell_type": "code",
   "execution_count": 2,
   "metadata": {
    "hidden": true
   },
   "outputs": [
    {
     "name": "stdout",
     "output_type": "stream",
     "text": [
      "tensor([[ 1.,  1.],\n",
      "        [ 1.,  1.]])\n"
     ]
    }
   ],
   "source": [
    "# Create a tensor and set requires_grad=True to track computation with it.\n",
    "x = torch.ones(2, 2, requires_grad=True)\n",
    "print(x)"
   ]
  },
  {
   "cell_type": "code",
   "execution_count": 3,
   "metadata": {
    "hidden": true
   },
   "outputs": [
    {
     "name": "stdout",
     "output_type": "stream",
     "text": [
      "tensor([[ 3.,  3.],\n",
      "        [ 3.,  3.]])\n"
     ]
    }
   ],
   "source": [
    "# Do some op on Tensor\n",
    "y = torch.add(x, 2)\n",
    "print(y)"
   ]
  },
  {
   "cell_type": "code",
   "execution_count": 4,
   "metadata": {
    "hidden": true
   },
   "outputs": [
    {
     "name": "stdout",
     "output_type": "stream",
     "text": [
      "<AddBackward0 object at 0x000001C26A4E4B00>\n"
     ]
    }
   ],
   "source": [
    "# y has grad_fn, bcoz it was created as a result of an OP\n",
    "print(y.grad_fn)"
   ]
  },
  {
   "cell_type": "code",
   "execution_count": 5,
   "metadata": {
    "hidden": true
   },
   "outputs": [
    {
     "name": "stdout",
     "output_type": "stream",
     "text": [
      "tensor([[ 27.,  27.],\n",
      "        [ 27.,  27.]]) tensor(27.)\n"
     ]
    }
   ],
   "source": [
    "# Do more OP on y\n",
    "z = y * y * 3\n",
    "out = z.mean()\n",
    "print(z, out)"
   ]
  },
  {
   "cell_type": "code",
   "execution_count": 6,
   "metadata": {
    "hidden": true
   },
   "outputs": [
    {
     "name": "stdout",
     "output_type": "stream",
     "text": [
      "False\n",
      "True\n",
      "<SumBackward0 object at 0x000001C27B16E4E0>\n"
     ]
    }
   ],
   "source": [
    "# .requires_grad_(...) changes an existing Tensor's requires_grad flag in-place\n",
    "# The input flag defaults to True if not given.\n",
    "a = torch.randn(2, 2)\n",
    "a = ((a*3)/ a)\n",
    "print(a.requires_grad)\n",
    "a.requires_grad_(True)\n",
    "print(a.requires_grad)\n",
    "b = (a*a).sum()\n",
    "print(b.grad_fn)"
   ]
  },
  {
   "cell_type": "markdown",
   "metadata": {
    "heading_collapsed": true
   },
   "source": [
    "## Gradient"
   ]
  },
  {
   "cell_type": "code",
   "execution_count": 7,
   "metadata": {
    "hidden": true
   },
   "outputs": [],
   "source": [
    "# We backprop now, bcoz out has single scalar, out.backward() is equivalent to out.backward(torch.tensor(1))\n",
    "out.backward()"
   ]
  },
  {
   "cell_type": "code",
   "execution_count": 8,
   "metadata": {
    "hidden": true
   },
   "outputs": [
    {
     "name": "stdout",
     "output_type": "stream",
     "text": [
      "tensor([[ 4.5000,  4.5000],\n",
      "        [ 4.5000,  4.5000]])\n"
     ]
    }
   ],
   "source": [
    "# print gradient d(out)/dx\n",
    "print(x.grad)"
   ]
  },
  {
   "cell_type": "code",
   "execution_count": 12,
   "metadata": {
    "hidden": true
   },
   "outputs": [
    {
     "name": "stdout",
     "output_type": "stream",
     "text": [
      "tensor([  272.7723,  1409.0833,  -832.3994])\n"
     ]
    }
   ],
   "source": [
    "# some crazy things with autograd\n",
    "x = torch.randn(3, requires_grad=True)\n",
    "y = x * 2\n",
    "while y.data.norm() < 1000:\n",
    "    y = y * 2\n",
    "print(y)"
   ]
  },
  {
   "cell_type": "code",
   "execution_count": 13,
   "metadata": {
    "hidden": true
   },
   "outputs": [
    {
     "name": "stdout",
     "output_type": "stream",
     "text": [
      "tensor([  102.4000,  1024.0000,     0.1024])\n"
     ]
    }
   ],
   "source": [
    "gradients = torch.tensor([0.1, 1.0, 0.0001], dtype=torch.float)\n",
    "y.backward(gradients)\n",
    "print(x.grad)"
   ]
  },
  {
   "cell_type": "code",
   "execution_count": 14,
   "metadata": {
    "hidden": true
   },
   "outputs": [
    {
     "name": "stdout",
     "output_type": "stream",
     "text": [
      "True\n",
      "True\n",
      "False\n"
     ]
    }
   ],
   "source": [
    "# we can also stop autograd from tracking history on Tensors with requires_grad=True\n",
    "# by wrapping code block inside with torch.no_grad():\n",
    "print(x.requires_grad)\n",
    "print((x**2).requires_grad)\n",
    "\n",
    "with torch.no_grad():\n",
    "    print((x**3).requires_grad)"
   ]
  },
  {
   "cell_type": "markdown",
   "metadata": {},
   "source": [
    "# Neural Networks\n",
    "Code adapted from [link](https://pytorch.org/tutorials/beginner/blitz/neural_networks_tutorial.html)\n",
    "\n",
    "NN can be constructed using **torch.nn** package.\n",
    "**nn** package depends on **autograd** package to define models and differentiate them. An **nn.Module** contains layers, and a method **forward(input)** that returns the output.\n",
    "\n",
    "Below network classifies digit images:\n",
    "![ConvNet](https://pytorch.org/tutorials/_images/mnist.png \"ConvNet\")\n",
    "It is a simple feedforward ntwk. It takes input, feeds it through several layers one after other, and then finally gives output.\n",
    "\n",
    "A typical training procedure for a NN is:\n",
    "- Define a NN that has some learnable parameters(or weights)\n",
    "- Iterate over a dataset of inputs\n",
    "- Process input through the NN\n",
    "- Compute Loss(how far Output is from being correct)\n",
    "- Propagate gradients back into network's parameter\n",
    "- Update weights using update rule like:\n",
    "> weight = weight - learningRate * gradient"
   ]
  },
  {
   "cell_type": "markdown",
   "metadata": {
    "heading_collapsed": true
   },
   "source": [
    "## Network Definition\n",
    "We need to define **forward** function, and **backward** function(where gradients are computed) is automatically defined for us using **autograd** package. We can use any of the Tensor operations in **forward** function.\n",
    "\n",
    "The learnable parameters of a model are returned by **net.parameters()**"
   ]
  },
  {
   "cell_type": "code",
   "execution_count": 35,
   "metadata": {
    "hidden": true
   },
   "outputs": [
    {
     "name": "stdout",
     "output_type": "stream",
     "text": [
      "Net(\n",
      "  (conv1): Conv2d(1, 6, kernel_size=(5, 5), stride=(1, 1))\n",
      "  (conv2): Conv2d(6, 16, kernel_size=(5, 5), stride=(1, 1))\n",
      "  (fc1): Linear(in_features=400, out_features=120, bias=True)\n",
      "  (fc2): Linear(in_features=120, out_features=84, bias=True)\n",
      "  (fc3): Linear(in_features=84, out_features=10, bias=True)\n",
      ")\n"
     ]
    }
   ],
   "source": [
    "import torch\n",
    "import torch.nn as nn\n",
    "import torch.nn.functional as F\n",
    "\n",
    "class Net(nn.Module):\n",
    "    \n",
    "    def __init__(self):\n",
    "        super(Net, self).__init__()\n",
    "        # 1 input image channel, 6 output channel, 5x5 square conv kernel\n",
    "        self.conv1 = nn.Conv2d(in_channels=1, out_channels=6, kernel_size=5) # gives C1:fmaps 6@28x28\n",
    "        self.conv2 = nn.Conv2d(in_channels=6, out_channels=16, kernel_size=5) # gives C3:fmaps 16@10x10\n",
    "        # Affine OP: y = Wx + b\n",
    "        self.fc1 = nn.Linear(in_features=16*5*5, out_features=120) # gives C5:layer 120\n",
    "        self.fc2 = nn.Linear(in_features=120, out_features=84) # gives F6:layer 84\n",
    "        self.fc3 = nn.Linear(in_features=84, out_features=10) # gives OUTPUT 10\n",
    "    \n",
    "    def forward(self, x):\n",
    "        # Max Pooling over (2, 2) window\n",
    "        x = F.max_pool2d(input=F.relu(input=self.conv1(x)), kernel_size=(2,2))\n",
    "        # If size is a square, we can only specifiy a single number\n",
    "        x = F.max_pool2d(input=F.relu(input=self.conv2(x)), kernel_size=2)\n",
    "        x = x.view(-1, self.num_flat_features(x))\n",
    "        x = F.relu(self.fc1(x))\n",
    "        x = F.relu(self.fc2(x))\n",
    "        x = self.fc3(x)\n",
    "        return x\n",
    "        \n",
    "    def num_flat_features(self, x):\n",
    "        size = x.size()[1:] # All dim except BatchSize dim\n",
    "        num_features = 1\n",
    "        for s in size:\n",
    "            num_features *= s\n",
    "        return num_features\n",
    "\n",
    "net = Net()\n",
    "print(net)"
   ]
  },
  {
   "cell_type": "code",
   "execution_count": 36,
   "metadata": {
    "hidden": true
   },
   "outputs": [
    {
     "name": "stdout",
     "output_type": "stream",
     "text": [
      "10\n",
      "Parameter containing:\n",
      "tensor([[[[-0.0885,  0.1967,  0.0459,  0.0892, -0.0083],\n",
      "          [ 0.0456,  0.1529,  0.0150, -0.0426, -0.0478],\n",
      "          [-0.1052, -0.0523,  0.1320, -0.0461,  0.1939],\n",
      "          [ 0.1467,  0.0420, -0.1992, -0.0824,  0.1449],\n",
      "          [-0.1536, -0.0131,  0.1619, -0.0567,  0.0869]]],\n",
      "\n",
      "\n",
      "        [[[-0.1682,  0.0923,  0.0188,  0.0860,  0.1887],\n",
      "          [-0.1686, -0.1491,  0.0816,  0.0187, -0.0091],\n",
      "          [-0.1819, -0.1425,  0.0610, -0.0386,  0.1105],\n",
      "          [-0.1913, -0.0793,  0.1478, -0.1136,  0.1575],\n",
      "          [-0.1666, -0.1643,  0.1953, -0.1928, -0.1068]]],\n",
      "\n",
      "\n",
      "        [[[ 0.1316,  0.1983,  0.1328,  0.0123, -0.0181],\n",
      "          [ 0.0633,  0.0885, -0.0429, -0.0593,  0.0913],\n",
      "          [ 0.1737,  0.0736, -0.1202, -0.0569,  0.0750],\n",
      "          [ 0.0383, -0.1091,  0.0094, -0.1042, -0.0902],\n",
      "          [-0.0226,  0.1307,  0.1570, -0.0444, -0.1587]]],\n",
      "\n",
      "\n",
      "        [[[ 0.1455,  0.0560, -0.1489, -0.0022,  0.0208],\n",
      "          [ 0.1210,  0.0313,  0.0908, -0.0637,  0.0120],\n",
      "          [ 0.0273, -0.0840,  0.0666,  0.1948, -0.1471],\n",
      "          [-0.0700,  0.0618, -0.1880, -0.1811, -0.1845],\n",
      "          [ 0.0423,  0.0901, -0.0343,  0.1199, -0.1875]]],\n",
      "\n",
      "\n",
      "        [[[ 0.1673, -0.0194, -0.1492,  0.0823,  0.1113],\n",
      "          [-0.0712, -0.0498, -0.0781,  0.1498, -0.0070],\n",
      "          [-0.0827,  0.0824, -0.1349, -0.0666,  0.0275],\n",
      "          [-0.0481,  0.1803,  0.0790,  0.1535, -0.0569],\n",
      "          [-0.1939, -0.1549, -0.0861,  0.1669,  0.1287]]],\n",
      "\n",
      "\n",
      "        [[[-0.1385, -0.0923,  0.0185, -0.1512,  0.1521],\n",
      "          [ 0.1304,  0.1148,  0.1321,  0.1649,  0.0520],\n",
      "          [ 0.1640, -0.1041, -0.1152, -0.1136, -0.1160],\n",
      "          [ 0.0561, -0.0955,  0.1812,  0.0214,  0.0461],\n",
      "          [-0.0176, -0.1287, -0.1590, -0.1907,  0.1201]]]])\n",
      "torch.Size([6, 1, 5, 5])\n"
     ]
    }
   ],
   "source": [
    "params = list(net.parameters())\n",
    "print(len(params))\n",
    "print(params[0])\n",
    "print(params[0].size()) # conv1's weight"
   ]
  },
  {
   "cell_type": "code",
   "execution_count": 37,
   "metadata": {
    "code_folding": [],
    "hidden": true
   },
   "outputs": [
    {
     "name": "stdout",
     "output_type": "stream",
     "text": [
      "tensor([[-0.0585, -0.0373,  0.0799, -0.1435,  0.0800, -0.0526, -0.0365,\n",
      "         -0.1645, -0.0096,  0.0617]])\n"
     ]
    }
   ],
   "source": [
    "# torch.nn only supports mini-batches.\n",
    "# Entire torch.nn package only supports inputs that are mini-batch of samples, and nt a single sample.\n",
    "# eg. nn.conv2d will take a 4D Tensor of nSamples x nChannels x Height x Width\n",
    "# If we have a single sample, we need to use input.unsqueeze(0) to add a fake batchSize dimension.\n",
    "\n",
    "# Lets try a random 32x32 input.\n",
    "# Expected input size to this net(LeNet) is 32z32.\n",
    "# To use this net in MNIST dataset, resize images from dataset to 32x32\n",
    "input = torch.randn(1, 1, 32, 32) # nSample x nChannel x Height x Weight\n",
    "out = net(input)\n",
    "print(out)"
   ]
  },
  {
   "cell_type": "code",
   "execution_count": 38,
   "metadata": {
    "hidden": true
   },
   "outputs": [],
   "source": [
    "# Zero the gradient buffers of all parameters\n",
    "# initialize backprops with random gradients\n",
    "net.zero_grad()\n",
    "out.backward(gradient=torch.randn(1, 10))"
   ]
  },
  {
   "cell_type": "markdown",
   "metadata": {
    "hidden": true
   },
   "source": [
    "### Recap:\n",
    "Lets Recap all the classes we have seen so far.\n",
    "- **torch.Tensor** - A multi-dimensional Array with support for autograd operations like **.backward()**(which holds gradient wrt the tensor).\n",
    "- **nn.Module** - Neural Network module. Convenient way of encapsulating parameters, with helpers for moving them to GPU, exporting, loading, etc.\n",
    "- **nn.Parameter** - A kind of Tensor, that is automatically registered as a parameter when assigned as an attribute to a **Module**.\n",
    "- **autograd.Function** - Implements forward and backward definitions of an autograd Operation. Every **Tensor** operation, creates at least a single **Function** node, that connects to functions that created a **Tensor** and encodes its history.\n",
    "### We covered:\n",
    "- Defining a Neural Network\n",
    "- Processing inputs and calling backward\n",
    "### Still Left:\n",
    "- Computing Loss\n",
    "- Updating weights of network"
   ]
  },
  {
   "cell_type": "markdown",
   "metadata": {
    "heading_collapsed": true
   },
   "source": [
    "## Loss Function\n",
    "- A Loss Function takes (output, target) pair of inputs, and computes a value that estimates how far away output is from target.\n",
    "- There are several different [Loss functions](https://pytorch.org/docs/stable/nn.html) under **torch.nn** package. A simple loss is **nn.MSELoss**, which computes mean-squared error btw output and target."
   ]
  },
  {
   "cell_type": "code",
   "execution_count": 39,
   "metadata": {
    "hidden": true
   },
   "outputs": [
    {
     "name": "stdout",
     "output_type": "stream",
     "text": [
      "tensor([  1.,   2.,   3.,   4.,   5.,   6.,   7.,   8.,   9.,  10.])\n",
      "tensor([[  1.,   2.,   3.,   4.,   5.,   6.,   7.,   8.,   9.,  10.]])\n",
      "tensor(38.7923)\n"
     ]
    }
   ],
   "source": [
    "# For eg.\n",
    "output = net(input)\n",
    "target = torch.arange(start=1, end=11) # A dummy target\n",
    "print(target)\n",
    "target = target.view(1, -1) # make it same shape as output\n",
    "print(target)\n",
    "criterion = nn.MSELoss()\n",
    "\n",
    "loss = criterion(output, target)\n",
    "print(loss)"
   ]
  },
  {
   "cell_type": "markdown",
   "metadata": {
    "hidden": true
   },
   "source": [
    "Now, if we follow **loss** in backward direction, using its **.grad_fn** attribute, we will see a graph of computations that looks like below.\n",
    "```\n",
    "input -> conv2d -> relu -> maxpool2d -> conv2d -> relu -> maxpool2d\n",
    "      -> view -> linear -> relu -> linear -> relu -> linear\n",
    "      -> MSELoss\n",
    "      -> loss\n",
    "```\n",
    "So, when we call **loss.backward()**, whole graph is differentiated wrt loss, and all Tensors in graph that has attribute **requires_grad=True** will have their **.grad** attribute accumulated with gradient. "
   ]
  },
  {
   "cell_type": "code",
   "execution_count": 40,
   "metadata": {
    "hidden": true
   },
   "outputs": [
    {
     "name": "stdout",
     "output_type": "stream",
     "text": [
      "<MseLossBackward object at 0x0000016640AFDFD0>\n",
      "<AddmmBackward object at 0x0000016640AFDDA0>\n",
      "<ExpandBackward object at 0x0000016640AFDFD0>\n"
     ]
    }
   ],
   "source": [
    "# For few steps backwards:\n",
    "print(loss.grad_fn) # MSELoss\n",
    "print(loss.grad_fn.next_functions[0][0]) # Linear\n",
    "print(loss.grad_fn.next_functions[0][0].next_functions[0][0]) # ReLU"
   ]
  },
  {
   "cell_type": "markdown",
   "metadata": {
    "heading_collapsed": true
   },
   "source": [
    "## BackProp\n",
    "- We need to clear existing gradients, else gradients will be accumulated to existing gradients.\n",
    "- To backpropagate error, we need to call loss.backward().\n",
    "- **For eg.** Lets look at conv1's bias gradient b4 and after backward."
   ]
  },
  {
   "cell_type": "code",
   "execution_count": 41,
   "metadata": {
    "hidden": true
   },
   "outputs": [
    {
     "name": "stdout",
     "output_type": "stream",
     "text": [
      "conv1.bias.grad b4 backward\n",
      "tensor([ 0.,  0.,  0.,  0.,  0.,  0.])\n",
      "conv1.bias.gradient after backward\n",
      "tensor(1.00000e-02 *\n",
      "       [ 1.0856, -5.7771, -4.8145,  1.6007,  5.6376,  0.1692])\n"
     ]
    }
   ],
   "source": [
    "net.zero_grad() # zeroes gradient buffer of all parameters of net\n",
    "\n",
    "print('conv1.bias.grad b4 backward')\n",
    "print(net.conv1.bias.grad)\n",
    "\n",
    "loss.backward()\n",
    "\n",
    "print('conv1.bias.gradient after backward')\n",
    "print(net.conv1.bias.grad)"
   ]
  },
  {
   "cell_type": "markdown",
   "metadata": {
    "heading_collapsed": true
   },
   "source": [
    "## Updating Weights\n",
    "Simplest Update Rule is Stochastic Gradient Descent(SGD)\n",
    "`weight = weight - learningRate * gradient`\n",
    "\n",
    "Implementing SGD in python\n",
    "```python\n",
    "learning_rate = 0.01\n",
    "for f in net.parameters():\n",
    "    f.data.sub_(f.grad.data * learning_rate)\n",
    "```\n",
    "- But in NN we need to use various different update rules like SGD, Nesterov-SGD, Adam, RMSProp, etc. Hence use the package **torch.optim** that implements all these methods.\n",
    "- Gradient Buffers has to be manually set to zero, bcoz gradients get accumulated as shown in above [BackProp](#BackProp) section. \n"
   ]
  },
  {
   "cell_type": "code",
   "execution_count": 43,
   "metadata": {
    "hidden": true
   },
   "outputs": [],
   "source": [
    "import torch.optim as optim\n",
    "\n",
    "# create a optimizer\n",
    "optimizer = optim.SGD(params=net.parameters(), lr=0.01)\n",
    "\n",
    "# In Training Loop\n",
    "optimizer.zero_grad() # zero gradient buffers\n",
    "output = net(input)\n",
    "loss = criterion(output, target)\n",
    "loss.backward()\n",
    "optimizer.step() # Performs a single Update step"
   ]
  },
  {
   "cell_type": "markdown",
   "metadata": {},
   "source": [
    "# Training an Image Classifier\n",
    "[DOCS](https://pytorch.org/tutorials/beginner/blitz/cifar10_tutorial.html)\n",
    "\n",
    "When working with image, text, audio or video data, we can use standard Python packages that load data into numpy array, then we can convert this array into **torch.\\*Tensor**.\n",
    "- For image, use packages like Pillow, OpenCV\n",
    "- For Audio, use packages like SciPy and librosa\n",
    "- For text, use NLTK or SpaCy\n",
    "\n",
    "For vision, use **torchvision** package, that has **Data Loaders** for common dataset like **ImageNet, CIFAR-10, MNIST** and **Data Transformers** for images like **torchvision.datasets** and **torch.utils.data.DataLoader**.\n",
    "For this tutorial we use CIFAR10 dataset\n",
    "- It has **10 classes** viz. airplane, automobile, bird, cat, deer, dog, frog, horse, ship, truck\n",
    "- Images are **3x32x32** dim ie. 3-color channel of 32x32 pixels in size.\n",
    "\n",
    "We will do following steps:\n",
    "1. Load and normalize CIFAR10 training and test datasets using **torchvision**\n",
    "- Define a CNN\n",
    "- Define a Loss Function\n",
    "- Train network on training data\n",
    "- Test on test data"
   ]
  },
  {
   "cell_type": "markdown",
   "metadata": {
    "heading_collapsed": true
   },
   "source": [
    "## 1. Loading and Normalizing CIFAR10 dataset\n",
    "Output of torchvision datasets are PILImage images of range [0, 1], We transform them to Tensors of normalized range [-1, 1]"
   ]
  },
  {
   "cell_type": "code",
   "execution_count": 45,
   "metadata": {
    "hidden": true
   },
   "outputs": [],
   "source": [
    "import torch\n",
    "import torchvision\n",
    "import torchvision.transforms as trans"
   ]
  },
  {
   "cell_type": "code",
   "execution_count": 46,
   "metadata": {
    "hidden": true
   },
   "outputs": [
    {
     "name": "stdout",
     "output_type": "stream",
     "text": [
      "Downloading https://www.cs.toronto.edu/~kriz/cifar-10-python.tar.gz to ./dataCIFAR10\\cifar-10-python.tar.gz\n",
      "Files already downloaded and verified\n"
     ]
    }
   ],
   "source": [
    "# Composing different transforms into a single object\n",
    "# transforms.Normalize(mean, std); normalize each channel with mean and std\n",
    "transform = trans.Compose([trans.ToTensor(), trans.Normalize(mean=(0.5, 0.5, 0.5), std=(0.5, 0.5, 0.5))])\n",
    "\n",
    "# training set\n",
    "trainset = torchvision.datasets.CIFAR10(root='./dataCIFAR10', train=True, download=True, transform=transform)\n",
    "trainloader = torch.utils.data.DataLoader(dataset=trainset, batch_size=4, shuffle=True, num_workers=2)\n",
    "\n",
    "# test set\n",
    "testset = torchvision.datasets.CIFAR10(root='./dataCIFAR10', train=False, download=True, transform=transform)\n",
    "testloader = torch.utils.data.DataLoader(dataset=testset, batch_size=4, shuffle=False, num_workers=2)\n",
    "\n",
    "classes = ('plane', 'car', 'bird', 'cat', 'deer', 'dog', 'frog', 'horse', 'ship', 'truck')"
   ]
  },
  {
   "cell_type": "code",
   "execution_count": 49,
   "metadata": {
    "hidden": true
   },
   "outputs": [
    {
     "name": "stdout",
     "output_type": "stream",
     "text": [
      "  dog   dog  ship  ship\n"
     ]
    },
    {
     "data": {
      "image/png": "[encoded data removed]",
      "text/plain": [
       "<Figure size 432x288 with 1 Axes>"
      ]
     },
     "metadata": {},
     "output_type": "display_data"
    }
   ],
   "source": [
    "import matplotlib.pyplot as plt\n",
    "import numpy as np\n",
    "\n",
    "# function to show image\n",
    "def imshow(img):\n",
    "    img = img/2 + 0.5 # unnormalize\n",
    "    np_img = img.numpy()\n",
    "    plt.imshow(X=np.transpose(a=np_img, axes=(1, 2, 0)))\n",
    "\n",
    "# get some random training images\n",
    "iter_data = iter(trainloader)\n",
    "images, labels = iter_data.next()\n",
    "\n",
    "# show images\n",
    "imshow(torchvision.utils.make_grid(images))\n",
    "# Print labels\n",
    "print(' '.join('%5s' % classes[labels[index]] for index in range(4)))"
   ]
  },
  {
   "cell_type": "markdown",
   "metadata": {
    "heading_collapsed": true
   },
   "source": [
    "## 2. Define a CNN\n",
    "We can use same NN from above [Neural Network > Network Definition](#Network-Definition) section and modify it to take 3-channel images(instead of 1-channel images as it was defined)"
   ]
  },
  {
   "cell_type": "code",
   "execution_count": 61,
   "metadata": {
    "hidden": true
   },
   "outputs": [],
   "source": [
    "import torch.nn as nn\n",
    "import torch.nn.functional as F\n",
    "\n",
    "class Net(nn.Module):\n",
    "    \n",
    "    def __init__(self):\n",
    "        super(Net, self).__init__()\n",
    "        self.conv1 = nn.Conv2d(in_channels=3, out_channels=6, kernel_size=5)\n",
    "        self.pool = nn.MaxPool2d(kernel_size=2, stride=2)\n",
    "        self.conv2 = nn.Conv2d(in_channels=6, out_channels=16, kernel_size=5)\n",
    "        self.fc1 = nn.Linear(in_features=16*5*5, out_features=120)\n",
    "        self.fc2 = nn.Linear(in_features=120, out_features=84)\n",
    "        self.fc3 = nn.Linear(in_features=84, out_features=10)\n",
    "    \n",
    "    def forward(self, x):\n",
    "        x = self.pool(F.relu(self.conv1(x)))\n",
    "        x = self.pool(F.relu(self.conv2(x)))\n",
    "        x = x.view(-1, 16*5*5)\n",
    "        x = F.relu(self.fc1(x))\n",
    "        x = F.relu(self.fc2(x))\n",
    "        x = self.fc3(x)\n",
    "        return x\n",
    "\n",
    "net = Net()"
   ]
  },
  {
   "cell_type": "markdown",
   "metadata": {
    "heading_collapsed": true
   },
   "source": [
    "## 3. Define a Loss function and optimizer\n",
    "Lets use a Classification Cross-Entropy Loss and SGD with momentum"
   ]
  },
  {
   "cell_type": "code",
   "execution_count": 62,
   "metadata": {
    "hidden": true
   },
   "outputs": [],
   "source": [
    "import torch.optim as optim\n",
    "\n",
    "criterion = nn.CrossEntropyLoss()\n",
    "optimizer = optim.SGD(params=net.parameters(), lr=0.001, momentum=0.9)"
   ]
  },
  {
   "cell_type": "markdown",
   "metadata": {
    "heading_collapsed": true
   },
   "source": [
    "## 4. Train the network\n",
    "We simply need to loop over our data iterator, and feed the inputs to network and optimize."
   ]
  },
  {
   "cell_type": "code",
   "execution_count": 63,
   "metadata": {
    "hidden": true
   },
   "outputs": [
    {
     "name": "stdout",
     "output_type": "stream",
     "text": [
      "[1,  2000] loss: 2.189\n",
      "[1,  4000] loss: 1.876\n",
      "[1,  6000] loss: 1.698\n",
      "[1,  8000] loss: 1.599\n",
      "[1, 10000] loss: 1.544\n",
      "[1, 12000] loss: 1.487\n",
      "[2,  2000] loss: 1.390\n",
      "[2,  4000] loss: 1.375\n",
      "[2,  6000] loss: 1.359\n",
      "[2,  8000] loss: 1.331\n",
      "[2, 10000] loss: 1.325\n",
      "[2, 12000] loss: 1.274\n",
      "Finished training\n"
     ]
    }
   ],
   "source": [
    "for epoch in range(2): # Loop over dataset multiple times\n",
    "    running_loss = 0.0\n",
    "    for i, data in enumerate(trainloader, 0):\n",
    "        # get inputs\n",
    "        inputs, labels = data\n",
    "        \n",
    "        # zero parameter gradients\n",
    "        optimizer.zero_grad()\n",
    "        \n",
    "        # forward + backward + optimize\n",
    "        outputs = net(inputs)\n",
    "        loss = criterion(outputs, labels)\n",
    "        loss.backward()\n",
    "        optimizer.step()\n",
    "        \n",
    "        # print stats\n",
    "        running_loss += loss.item()\n",
    "        if i % 2000 == 1999: # print every 2000 mini-batch\n",
    "            print('[%d, %5d] loss: %.3f' % (epoch+1, i+1, running_loss/2000))\n",
    "            running_loss = 0.0\n",
    "print('Finished training')"
   ]
  },
  {
   "cell_type": "markdown",
   "metadata": {
    "heading_collapsed": true
   },
   "source": [
    "## 5. Test network on test data\n",
    "We trained network for 2 passes over training dataset. But we need to check if the network has learned anything.\n",
    "\n",
    "We will check this by predicting class label that neural netowrk outputs, and checking it against Ground-Truth. If prediction is correct, we add the sample to list of correct predictions.\n",
    "\n",
    "Lets display an image from test set to get familiar"
   ]
  },
  {
   "cell_type": "code",
   "execution_count": 64,
   "metadata": {
    "hidden": true
   },
   "outputs": [
    {
     "name": "stdout",
     "output_type": "stream",
     "text": [
      "Ground Truth:    cat  ship  ship plane\n"
     ]
    },
    {
     "data": {
      "image/png": "[encoded data removed]",
      "text/plain": [
       "<Figure size 432x288 with 1 Axes>"
      ]
     },
     "metadata": {},
     "output_type": "display_data"
    }
   ],
   "source": [
    "iter_data = iter(testloader)\n",
    "images, labels = iter_data.next()\n",
    "\n",
    "# print images\n",
    "imshow(torchvision.utils.make_grid(images))\n",
    "print('Ground Truth: ', ' '.join('%5s' % classes[labels[j]] for j in range(4)))"
   ]
  },
  {
   "cell_type": "code",
   "execution_count": 65,
   "metadata": {
    "hidden": true
   },
   "outputs": [
    {
     "name": "stdout",
     "output_type": "stream",
     "text": [
      "predicted:    cat   car   car  ship\n"
     ]
    }
   ],
   "source": [
    "# TO check wat NN thinks of these images are\n",
    "output = net(images)\n",
    "\n",
    "# The outputs are energies for 10 classes.\n",
    "# Higher energy for a class, the more the network thinks that the image is of a particular class.\n",
    "# So lets get the index of highest energy\n",
    "_, predicted = torch.max(output, 1) # torch.max(inputtensor, dimtoconsider)\n",
    "print('predicted: ', ' '.join('%5s' % classes[predicted[j]] for j in range(4)))"
   ]
  },
  {
   "cell_type": "code",
   "execution_count": 66,
   "metadata": {
    "hidden": true
   },
   "outputs": [
    {
     "name": "stdout",
     "output_type": "stream",
     "text": [
      "Acc of net on 10,000 test images: 53 %\n"
     ]
    }
   ],
   "source": [
    "# To look at performance of net in whole dataset\n",
    "correct = 0\n",
    "total = 0\n",
    "with torch.no_grad():\n",
    "    for data in testloader:\n",
    "        images, labels = data\n",
    "        outputs = net(images)\n",
    "        _, predicted = torch.max(outputs.data, 1)\n",
    "        total += labels.size(0)\n",
    "        correct += (predicted == labels).sum().item()\n",
    "print('Acc of net on 10,000 test images: %d %%' % (100 * correct/total))"
   ]
  },
  {
   "cell_type": "markdown",
   "metadata": {
    "hidden": true
   },
   "source": [
    "That is an okay Accuracy. Not bad, btr than chance, which is 10% Acc(randomly picking a class out of 10 classes). Seems like the net has learned something.\n",
    "\n",
    "What are the classes that performed well, and classes that did not?:"
   ]
  },
  {
   "cell_type": "code",
   "execution_count": 71,
   "metadata": {
    "hidden": true
   },
   "outputs": [
    {
     "name": "stdout",
     "output_type": "stream",
     "text": [
      "Acc of plane : 66 %\n",
      "Acc of   car : 77 %\n",
      "Acc of  bird : 50 %\n",
      "Acc of   cat : 27 %\n",
      "Acc of  deer : 49 %\n",
      "Acc of   dog : 52 %\n",
      "Acc of  frog : 46 %\n",
      "Acc of horse : 63 %\n",
      "Acc of  ship : 54 %\n",
      "Acc of truck : 52 %\n"
     ]
    }
   ],
   "source": [
    "class_correct = list(0. for i in range(10))\n",
    "class_total = list(0. for i in range(10))\n",
    "\n",
    "with torch.no_grad():\n",
    "    for data in testloader:\n",
    "        images, labels = data\n",
    "        outputs = net(images)\n",
    "        _, predicted = torch.max(outputs, 1)\n",
    "        c = (predicted == labels).squeeze()\n",
    "        for i in range(4):\n",
    "            label = labels[i]\n",
    "            class_correct[label] += c[i].item()\n",
    "            class_total[label] += 1\n",
    "\n",
    "for i in range(10):\n",
    "    print('Acc of %5s : %2d %%' % (classes[i], 100*class_correct[i]/class_total[i]))"
   ]
  },
  {
   "cell_type": "markdown",
   "metadata": {
    "heading_collapsed": true
   },
   "source": [
    "## Training on GPU\n",
    "Just like transfering Tensor on to GPU, we can transfer NN also to GPU.\n",
    "\n",
    "Lets 1st define our device as first visible CUDA device if we have CUDA available"
   ]
  },
  {
   "cell_type": "code",
   "execution_count": 72,
   "metadata": {
    "hidden": true
   },
   "outputs": [
    {
     "name": "stdout",
     "output_type": "stream",
     "text": [
      "cuda:0\n"
     ]
    }
   ],
   "source": [
    "device = torch.device(\"cuda:0\" if torch.cuda.is_available() else \"cpu\")\n",
    "# if we are in a CUDA machine, this should print a CUDA device\n",
    "print(device)"
   ]
  },
  {
   "cell_type": "code",
   "execution_count": null,
   "metadata": {
    "hidden": true
   },
   "outputs": [],
   "source": [
    "# The rest of this section will assume that device is a CUDA device\n",
    "\n",
    "# These methods will recursively go over all modules and convert their parameters and buffers to CUDA tensors\n",
    "net.to(device)\n",
    "\n",
    "# Remember that we need to send inputs and targets at every step to GPU\n",
    "inputs, labels = inputs.to(device), labels.to(device)\n",
    "\n",
    "# Why dont we see a massive speedUp compared to CPU? bcoz the above NN is really small"
   ]
  },
  {
   "cell_type": "markdown",
   "metadata": {},
   "source": [
    "## Goals Achieved:\n",
    "- Understanding PyTorch Tensor library and NN at higher level\n",
    "- train a small NN to classify Images"
   ]
  },
  {
   "cell_type": "code",
   "execution_count": null,
   "metadata": {},
   "outputs": [],
   "source": []
  }
 ],
 "metadata": {
  "kernelspec": {
   "display_name": "Python 3",
   "language": "python",
   "name": "python3"
  },
  "language_info": {
   "codemirror_mode": {
    "name": "ipython",
    "version": 3
   },
   "file_extension": ".py",
   "mimetype": "text/x-python",
   "name": "python",
   "nbconvert_exporter": "python",
   "pygments_lexer": "ipython3",
   "version": "3.5.5"
  }
 },
 "nbformat": 4,
 "nbformat_minor": 2
}
